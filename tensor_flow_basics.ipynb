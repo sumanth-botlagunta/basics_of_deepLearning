{
 "cells": [
  {
   "cell_type": "code",
   "execution_count": 49,
   "id": "f1bea447-5d54-4b37-a6b5-733099a09b9f",
   "metadata": {},
   "outputs": [
    {
     "name": "stdout",
     "output_type": "stream",
     "text": [
      "TensorFlow version: 2.16.1\n"
     ]
    }
   ],
   "source": [
    "import tensorflow as tf\n",
    "print(\"TensorFlow version:\", tf.__version__)"
   ]
  },
  {
   "cell_type": "markdown",
   "id": "c0669bf7-95eb-422b-820b-94b7317d760d",
   "metadata": {},
   "source": [
    "# importing data set"
   ]
  },
  {
   "cell_type": "code",
   "execution_count": 50,
   "id": "f8a49bbb-9241-4150-b797-0f4563a54df3",
   "metadata": {},
   "outputs": [],
   "source": [
    "mnist = tf.keras.datasets.mnist\n",
    "data = mnist.load_data()\n",
    "(x_train, y_train), (x_test, y_test) = data"
   ]
  },
  {
   "cell_type": "code",
   "execution_count": 51,
   "id": "97d18fe6-1ac5-43b3-9461-b3472817de82",
   "metadata": {},
   "outputs": [],
   "source": [
    "model = tf.keras.models.Sequential([\n",
    "    tf.keras.Input(shape=(28, 28)),\n",
    "    tf.keras.layers.Flatten(),\n",
    "    tf.keras.layers.Dense(128, activation='relu'),\n",
    "    tf.keras.layers.Dropout(0.2),\n",
    "    tf.keras.layers.Dense(10)\n",
    "])"
   ]
  },
  {
   "cell_type": "code",
   "execution_count": 52,
   "id": "83671a3f-d4c3-4ec5-9e8e-0ea02c7beb7f",
   "metadata": {},
   "outputs": [
    {
     "data": {
      "text/plain": [
       "array([[ -43.642483,  102.55974 ,   39.373856,  -84.460556,  100.06486 ,\n",
       "         -73.57625 ,  114.87777 ,  119.803795, -103.990685, -164.92456 ]],\n",
       "      dtype=float32)"
      ]
     },
     "execution_count": 52,
     "metadata": {},
     "output_type": "execute_result"
    }
   ],
   "source": [
    "predictions = model(x_train[:1]).numpy()\n",
    "predictions"
   ]
  },
  {
   "cell_type": "code",
   "execution_count": 53,
   "id": "80f57eae-d0a1-4298-9d43-163a41f4034e",
   "metadata": {},
   "outputs": [
    {
     "data": {
      "text/plain": [
       "array([[0.0000000e+00, 3.2200440e-08, 1.1656861e-35, 0.0000000e+00,\n",
       "        2.6567388e-09, 0.0000000e+00, 7.2030229e-03, 9.9279696e-01,\n",
       "        0.0000000e+00, 0.0000000e+00]], dtype=float32)"
      ]
     },
     "execution_count": 53,
     "metadata": {},
     "output_type": "execute_result"
    }
   ],
   "source": [
    "tf.nn.softmax(predictions).numpy()"
   ]
  },
  {
   "cell_type": "code",
   "execution_count": 54,
   "id": "9d6d226b-7f8d-4914-856f-b648ea526a6c",
   "metadata": {},
   "outputs": [
    {
     "data": {
      "text/plain": [
       "193.38727"
      ]
     },
     "execution_count": 54,
     "metadata": {},
     "output_type": "execute_result"
    }
   ],
   "source": [
    "loss_fn = tf.keras.losses.SparseCategoricalCrossentropy(from_logits=True)\n",
    "loss_fn(y_train[:1], predictions).numpy()"
   ]
  },
  {
   "cell_type": "code",
   "execution_count": 55,
   "id": "ef181348-7732-41dc-8cbb-ae14ff082587",
   "metadata": {},
   "outputs": [],
   "source": [
    "model.compile(optimizer='adam', loss=loss_fn, metrics=['accuracy'])"
   ]
  },
  {
   "cell_type": "code",
   "execution_count": 56,
   "id": "1900f768-4cd1-43a4-89fd-18a2449dc583",
   "metadata": {},
   "outputs": [
    {
     "name": "stdout",
     "output_type": "stream",
     "text": [
      "Epoch 1/10\n",
      "\u001b[1m1875/1875\u001b[0m \u001b[32m━━━━━━━━━━━━━━━━━━━━\u001b[0m\u001b[37m\u001b[0m \u001b[1m2s\u001b[0m 959us/step - accuracy: 0.7158 - loss: 8.4324\n",
      "Epoch 2/10\n",
      "\u001b[1m1875/1875\u001b[0m \u001b[32m━━━━━━━━━━━━━━━━━━━━\u001b[0m\u001b[37m\u001b[0m \u001b[1m1s\u001b[0m 780us/step - accuracy: 0.8293 - loss: 0.6461\n",
      "Epoch 3/10\n",
      "\u001b[1m1875/1875\u001b[0m \u001b[32m━━━━━━━━━━━━━━━━━━━━\u001b[0m\u001b[37m\u001b[0m \u001b[1m2s\u001b[0m 858us/step - accuracy: 0.8689 - loss: 0.5119\n",
      "Epoch 4/10\n",
      "\u001b[1m1875/1875\u001b[0m \u001b[32m━━━━━━━━━━━━━━━━━━━━\u001b[0m\u001b[37m\u001b[0m \u001b[1m2s\u001b[0m 819us/step - accuracy: 0.8835 - loss: 0.4343\n",
      "Epoch 5/10\n",
      "\u001b[1m1875/1875\u001b[0m \u001b[32m━━━━━━━━━━━━━━━━━━━━\u001b[0m\u001b[37m\u001b[0m \u001b[1m2s\u001b[0m 823us/step - accuracy: 0.8950 - loss: 0.3961\n",
      "Epoch 6/10\n",
      "\u001b[1m1875/1875\u001b[0m \u001b[32m━━━━━━━━━━━━━━━━━━━━\u001b[0m\u001b[37m\u001b[0m \u001b[1m1s\u001b[0m 761us/step - accuracy: 0.9029 - loss: 0.3696\n",
      "Epoch 7/10\n",
      "\u001b[1m1875/1875\u001b[0m \u001b[32m━━━━━━━━━━━━━━━━━━━━\u001b[0m\u001b[37m\u001b[0m \u001b[1m1s\u001b[0m 743us/step - accuracy: 0.9075 - loss: 0.3515\n",
      "Epoch 8/10\n",
      "\u001b[1m1875/1875\u001b[0m \u001b[32m━━━━━━━━━━━━━━━━━━━━\u001b[0m\u001b[37m\u001b[0m \u001b[1m2s\u001b[0m 830us/step - accuracy: 0.9106 - loss: 0.3423\n",
      "Epoch 9/10\n",
      "\u001b[1m1875/1875\u001b[0m \u001b[32m━━━━━━━━━━━━━━━━━━━━\u001b[0m\u001b[37m\u001b[0m \u001b[1m1s\u001b[0m 761us/step - accuracy: 0.9197 - loss: 0.3113\n",
      "Epoch 10/10\n",
      "\u001b[1m1875/1875\u001b[0m \u001b[32m━━━━━━━━━━━━━━━━━━━━\u001b[0m\u001b[37m\u001b[0m \u001b[1m1s\u001b[0m 772us/step - accuracy: 0.9178 - loss: 0.3159\n"
     ]
    },
    {
     "data": {
      "text/plain": [
       "<keras.src.callbacks.history.History at 0x3173ff510>"
      ]
     },
     "execution_count": 56,
     "metadata": {},
     "output_type": "execute_result"
    }
   ],
   "source": [
    "model.fit(x_train, y_train, epochs=10)"
   ]
  },
  {
   "cell_type": "code",
   "execution_count": 57,
   "id": "8f397537-2d8e-472c-ab0e-54c4a7fbd227",
   "metadata": {},
   "outputs": [
    {
     "name": "stdout",
     "output_type": "stream",
     "text": [
      "313/313 - 0s - 421us/step - accuracy: 0.9444 - loss: 0.2924\n"
     ]
    },
    {
     "data": {
      "text/plain": [
       "[0.29237815737724304, 0.9444000124931335]"
      ]
     },
     "execution_count": 57,
     "metadata": {},
     "output_type": "execute_result"
    }
   ],
   "source": [
    "model.evaluate(x_test, y_test, verbose=2)"
   ]
  },
  {
   "cell_type": "code",
   "execution_count": 58,
   "id": "5f8ae424-dbf8-4817-8bdc-0d33d6c100b4",
   "metadata": {},
   "outputs": [
    {
     "data": {
      "text/plain": [
       "<tf.Tensor: shape=(5, 10), dtype=float32, numpy=\n",
       "array([[0.0000000e+00, 4.1912143e-16, 6.2128596e-09, 1.2920277e-10,\n",
       "        4.5236622e-25, 4.7830538e-14, 0.0000000e+00, 1.0000000e+00,\n",
       "        0.0000000e+00, 7.0518990e-22],\n",
       "       [0.0000000e+00, 6.5770227e-01, 3.4229612e-01, 8.7093539e-08,\n",
       "        1.9460440e-21, 9.9506568e-13, 2.0755368e-16, 1.5122425e-06,\n",
       "        1.1947946e-15, 0.0000000e+00],\n",
       "       [0.0000000e+00, 1.0000000e+00, 6.7062556e-17, 3.3888531e-26,\n",
       "        3.4803879e-13, 1.6127841e-16, 4.6353817e-14, 3.8066890e-11,\n",
       "        2.4853276e-22, 1.3955293e-32],\n",
       "       [9.9996513e-01, 0.0000000e+00, 2.5363181e-07, 1.9360359e-14,\n",
       "        1.6465670e-12, 2.4745817e-09, 1.9575310e-07, 3.4477875e-05,\n",
       "        1.4548130e-15, 3.5723837e-11],\n",
       "       [3.8817973e-11, 2.0599464e-09, 1.7782769e-08, 7.8524698e-09,\n",
       "        9.9999964e-01, 1.1855547e-09, 9.3899950e-11, 2.8313030e-07,\n",
       "        1.2603006e-10, 1.9667517e-08]], dtype=float32)>"
      ]
     },
     "execution_count": 58,
     "metadata": {},
     "output_type": "execute_result"
    }
   ],
   "source": [
    "probabilty_model = tf.keras.Sequential([\n",
    "    model,\n",
    "    tf.keras.layers.Softmax()\n",
    "])\n",
    "probabilty_model(x_test[:5])"
   ]
  },
  {
   "cell_type": "code",
   "execution_count": null,
   "id": "15137918-9e11-4dd7-955a-4ffcdc4cfcdc",
   "metadata": {},
   "outputs": [],
   "source": []
  }
 ],
 "metadata": {
  "kernelspec": {
   "display_name": "Python 3 (ipykernel)",
   "language": "python",
   "name": "python3"
  },
  "language_info": {
   "codemirror_mode": {
    "name": "ipython",
    "version": 3
   },
   "file_extension": ".py",
   "mimetype": "text/x-python",
   "name": "python",
   "nbconvert_exporter": "python",
   "pygments_lexer": "ipython3",
   "version": "3.11.9"
  }
 },
 "nbformat": 4,
 "nbformat_minor": 5
}
